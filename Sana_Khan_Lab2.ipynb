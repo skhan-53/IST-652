{
 "cells": [
  {
   "cell_type": "markdown",
   "id": "a490fe66",
   "metadata": {},
   "source": [
    "Use the NBA-Attendance-2015.txt and the 2-4-1ReadingFiles jupyter program as a starting\n",
    "point to read in the data. Then for each line, create a string using string and number formatting\n",
    "that puts the team, total attendance, average attendance, and capacity into a formatted string.\n",
    "Each line should look something like:\n",
    "‘The overall attendance at Atlanta was 13,993, average attendance was 9,456 and the capacity\n",
    "was 102.06%’\n",
    "Make sure the Attendance has appropriate commas and capacity has a 2 decimals and a %\n",
    "sign."
   ]
  },
  {
   "cell_type": "code",
   "execution_count": 16,
   "id": "14f2e0f4",
   "metadata": {},
   "outputs": [],
   "source": [
    "nbafile = (\"../data/NBA-Attendance-2015.txt\")"
   ]
  },
  {
   "cell_type": "code",
   "execution_count": 21,
   "id": "627f7b7e",
   "metadata": {},
   "outputs": [
    {
     "name": "stdout",
     "output_type": "stream",
     "text": [
      "[[1, 'Bulls', 894659, 21820, 104.3], [2, 'Cavaliers', 843042, 20562, 100.0], [3, 'Mavericks', 825901, 20143, 104.9], [4, 'Raptors', 812863, 19825, 100.1], [5, 'NY Knicks', 812292, 19812, 100.0], [6, 'Heat', 809350, 19740, 100.7], [7, 'Warriors', 803436, 19596, 100.0], [8, 'Trail Blazers', 794085, 19367, 99.6], [9, 'Jazz', 791489, 19304, 97.0], [10, 'Clippers', 786910, 19192, 100.7], [11, 'Lakers', 778877, 18997, 99.7], [12, 'Spurs', 756445, 18449, 99.3], [13, 'Celtics', 749076, 18270, 98.1], [14, 'Thunder', 746323, 18203, 100.0], [15, 'Rockets', 737244, 17981, 99.7], [16, 'Wizards', 725426, 17693, 87.3], [17, 'Magic', 719275, 17543, 93.1], [18, 'Hornets', 716894, 17485, 91.7], [19, 'Kings', 707526, 17256, 99.7], [20, 'Suns', 701405, 17107, 92.9], [21, 'Pacers', 690733, 16847, 92.7], [22, 'Hawks', 690150, 16832, 89.9], [23, 'Pelicans', 688549, 16793, 97.7], [24, 'Grizzlies', 684603, 16697, 92.2], [25, 'Pistons', 677138, 16515, 74.8], [26, 'Bucks', 621808, 15166, 81.0], [27, 'Nets', 620142, 15125, 83.6], [28, '76ers', 610121, 14881, 73.2], [29, 'Timberwolves', 581178, 14175, 73.2], [30, 'Nuggets', 577898, 14095, 73.6]]\n"
     ]
    }
   ],
   "source": [
    "#this code imports the file as a csv, then creates a variable called teams. The for loop pulls the 'columns' and assigns values that then get appended to the \n",
    "import csv\n",
    "with open(nbafile) as csv_file:\n",
    "    file = csv.reader(csv_file, delimiter='\\t')\n",
    "    teams = [] \n",
    "    for x in file:\n",
    "        rank = int(x[0])\n",
    "        team_name = x[1]\n",
    "        overall_att = int(x[2])\n",
    "        average_att = int(x[3])\n",
    "        capacity =float(x[4])\n",
    "        teams.append([rank, team_name, overall_att, average_att, capacity])\n",
    "    print(teams)"
   ]
  },
  {
   "cell_type": "code",
   "execution_count": 22,
   "id": "bdad01c2",
   "metadata": {},
   "outputs": [
    {
     "name": "stdout",
     "output_type": "stream",
     "text": [
      "The overall attendance at Bulls was 894,659, average attendance was 21,820, and the capacity was 104.30%\n",
      "The overall attendance at Cavaliers was 843,042, average attendance was 20,562, and the capacity was 100.00%\n",
      "The overall attendance at Mavericks was 825,901, average attendance was 20,143, and the capacity was 104.90%\n",
      "The overall attendance at Raptors was 812,863, average attendance was 19,825, and the capacity was 100.10%\n",
      "The overall attendance at NY Knicks was 812,292, average attendance was 19,812, and the capacity was 100.00%\n",
      "The overall attendance at Heat was 809,350, average attendance was 19,740, and the capacity was 100.70%\n",
      "The overall attendance at Warriors was 803,436, average attendance was 19,596, and the capacity was 100.00%\n",
      "The overall attendance at Trail Blazers was 794,085, average attendance was 19,367, and the capacity was 99.60%\n",
      "The overall attendance at Jazz was 791,489, average attendance was 19,304, and the capacity was 97.00%\n",
      "The overall attendance at Clippers was 786,910, average attendance was 19,192, and the capacity was 100.70%\n",
      "The overall attendance at Lakers was 778,877, average attendance was 18,997, and the capacity was 99.70%\n",
      "The overall attendance at Spurs was 756,445, average attendance was 18,449, and the capacity was 99.30%\n",
      "The overall attendance at Celtics was 749,076, average attendance was 18,270, and the capacity was 98.10%\n",
      "The overall attendance at Thunder was 746,323, average attendance was 18,203, and the capacity was 100.00%\n",
      "The overall attendance at Rockets was 737,244, average attendance was 17,981, and the capacity was 99.70%\n",
      "The overall attendance at Wizards was 725,426, average attendance was 17,693, and the capacity was 87.30%\n",
      "The overall attendance at Magic was 719,275, average attendance was 17,543, and the capacity was 93.10%\n",
      "The overall attendance at Hornets was 716,894, average attendance was 17,485, and the capacity was 91.70%\n",
      "The overall attendance at Kings was 707,526, average attendance was 17,256, and the capacity was 99.70%\n",
      "The overall attendance at Suns was 701,405, average attendance was 17,107, and the capacity was 92.90%\n",
      "The overall attendance at Pacers was 690,733, average attendance was 16,847, and the capacity was 92.70%\n",
      "The overall attendance at Hawks was 690,150, average attendance was 16,832, and the capacity was 89.90%\n",
      "The overall attendance at Pelicans was 688,549, average attendance was 16,793, and the capacity was 97.70%\n",
      "The overall attendance at Grizzlies was 684,603, average attendance was 16,697, and the capacity was 92.20%\n",
      "The overall attendance at Pistons was 677,138, average attendance was 16,515, and the capacity was 74.80%\n",
      "The overall attendance at Bucks was 621,808, average attendance was 15,166, and the capacity was 81.00%\n",
      "The overall attendance at Nets was 620,142, average attendance was 15,125, and the capacity was 83.60%\n",
      "The overall attendance at 76ers was 610,121, average attendance was 14,881, and the capacity was 73.20%\n",
      "The overall attendance at Timberwolves was 581,178, average attendance was 14,175, and the capacity was 73.20%\n",
      "The overall attendance at Nuggets was 577,898, average attendance was 14,095, and the capacity was 73.60%\n"
     ]
    }
   ],
   "source": [
    "for rank, team_name, overall_att, average_att, capacity in teams:\n",
    "    print(f\"The overall attendance at {team_name} was {overall_att:,}, average attendance was {average_att:,}, and the capacity was {capacity/100:.2%}\")\n"
   ]
  }
 ],
 "metadata": {
  "kernelspec": {
   "display_name": "Python 3 (ipykernel)",
   "language": "python",
   "name": "python3"
  },
  "language_info": {
   "codemirror_mode": {
    "name": "ipython",
    "version": 3
   },
   "file_extension": ".py",
   "mimetype": "text/x-python",
   "name": "python",
   "nbconvert_exporter": "python",
   "pygments_lexer": "ipython3",
   "version": "3.9.13"
  }
 },
 "nbformat": 4,
 "nbformat_minor": 5
}
