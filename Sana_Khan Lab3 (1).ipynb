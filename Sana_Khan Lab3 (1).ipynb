{
 "cells": [
  {
   "cell_type": "code",
   "execution_count": 1,
   "id": "d34cb557",
   "metadata": {},
   "outputs": [],
   "source": [
    "stock = {\"banana\": 6, \"apple\": 0, \"orange\": 32, \"pear\": 15}\n",
    "\n",
    "prices = {\"banana\": 4, \"apple\": 2, \"orange\": 1.5, \"pear\": 3}"
   ]
  },
  {
   "cell_type": "markdown",
   "id": "7a8f17a2",
   "metadata": {},
   "source": [
    "Show the expression that gets the value of the stock dictionary at the key ‘orange’. Print out\n",
    "the results. Show a statement that adds an item to the stock dictionary called ‘cherry’ with\n",
    "some integer value and that adds ‘cherry’ to the prices dictionary with a numeric value. (Or\n",
    "pick your own fruit name.) Make sure you label and print your result"
   ]
  },
  {
   "cell_type": "code",
   "execution_count": 8,
   "id": "e064d119",
   "metadata": {},
   "outputs": [
    {
     "name": "stdout",
     "output_type": "stream",
     "text": [
      "There are 32 oranges\n"
     ]
    }
   ],
   "source": [
    "stock['orange']\n",
    "\n",
    "print(f\"There are {stock['orange']} oranges\" )"
   ]
  },
  {
   "cell_type": "code",
   "execution_count": 3,
   "id": "3dcaf53b",
   "metadata": {},
   "outputs": [],
   "source": [
    "stock['cherry'] = 12\n",
    "prices['cherry'] = 1.12"
   ]
  },
  {
   "cell_type": "code",
   "execution_count": 4,
   "id": "354ff86f",
   "metadata": {},
   "outputs": [
    {
     "name": "stdout",
     "output_type": "stream",
     "text": [
      "{'banana': 6, 'apple': 0, 'orange': 32, 'pear': 15, 'cherry': 12}\n",
      "{'banana': 4, 'apple': 2, 'orange': 1.5, 'pear': 3, 'cherry': 1.12}\n"
     ]
    }
   ],
   "source": [
    "print(stock)\n",
    "print(prices)"
   ]
  },
  {
   "cell_type": "markdown",
   "id": "561e540d",
   "metadata": {},
   "source": [
    "Write the code for a loop that iterates over the stock dictionary and prints each key and value."
   ]
  },
  {
   "cell_type": "code",
   "execution_count": 9,
   "id": "378dc57e",
   "metadata": {},
   "outputs": [
    {
     "name": "stdout",
     "output_type": "stream",
     "text": [
      "banana : 6\n",
      "apple : 0\n",
      "orange : 32\n",
      "pear : 15\n",
      "cherry : 12\n"
     ]
    }
   ],
   "source": [
    "for key in stock.keys():\n",
    "    print(key, \":\", stock[key])\n"
   ]
  },
  {
   "cell_type": "code",
   "execution_count": 11,
   "id": "7eff80f2",
   "metadata": {},
   "outputs": [
    {
     "name": "stdout",
     "output_type": "stream",
     "text": [
      "banana : 6\n",
      "apple : 0\n",
      "orange : 32\n",
      "pear : 15\n",
      "cherry : 12\n"
     ]
    }
   ],
   "source": [
    "for k, v in stock.items():\n",
    "    print(k, \":\", v)\n"
   ]
  },
  {
   "cell_type": "markdown",
   "id": "e63e9004",
   "metadata": {},
   "source": [
    "Write the code that will sum the total number in stock of the items in the groceries list. \n",
    "How many apples + bananas + pears are there? Display the total items labeled appropriately."
   ]
  },
  {
   "cell_type": "code",
   "execution_count": 14,
   "id": "99062dec",
   "metadata": {},
   "outputs": [],
   "source": [
    "groceries = ['apple', 'banana', 'pear']"
   ]
  },
  {
   "cell_type": "code",
   "execution_count": 29,
   "id": "28924bfc",
   "metadata": {},
   "outputs": [
    {
     "name": "stdout",
     "output_type": "stream",
     "text": [
      "Total groceries in stock 21\n"
     ]
    }
   ],
   "source": [
    "total = 0\n",
    "for g in groceries:\n",
    "    total = total + stock[g]\n",
    "print(f\"Total groceries in stock {total}\")"
   ]
  },
  {
   "cell_type": "code",
   "execution_count": null,
   "id": "c32a2902",
   "metadata": {},
   "outputs": [],
   "source": [
    "Write the code that can print out the total value in stock of all the items. This program can\n",
    "iterate over the stock dictionary and for each item multiply the number in stock times the price\n",
    "of that item in the prices dictionary. (This can include the items for ‘cherry’ or not, as you\n",
    "choose.) Display the total value with appropriate label and formatting of the total value in\n",
    "dollars."
   ]
  },
  {
   "cell_type": "code",
   "execution_count": 40,
   "id": "af0e3fea",
   "metadata": {},
   "outputs": [
    {
     "name": "stdout",
     "output_type": "stream",
     "text": [
      "Total Price for instock items  $130.44\n"
     ]
    }
   ],
   "source": [
    "in_stock = 0\n",
    "for i in stock:\n",
    "    in_stock +=  float(stock[i]) * float(prices[i])\n",
    "print( f\"Total Price for instock items  ${in_stock}\")"
   ]
  },
  {
   "cell_type": "code",
   "execution_count": null,
   "id": "c8f388e7",
   "metadata": {},
   "outputs": [],
   "source": []
  }
 ],
 "metadata": {
  "kernelspec": {
   "display_name": "Python 3 (ipykernel)",
   "language": "python",
   "name": "python3"
  },
  "language_info": {
   "codemirror_mode": {
    "name": "ipython",
    "version": 3
   },
   "file_extension": ".py",
   "mimetype": "text/x-python",
   "name": "python",
   "nbconvert_exporter": "python",
   "pygments_lexer": "ipython3",
   "version": "3.9.13"
  }
 },
 "nbformat": 4,
 "nbformat_minor": 5
}
