{
 "cells": [
  {
   "cell_type": "code",
   "execution_count": 4,
   "id": "543c3af8",
   "metadata": {},
   "outputs": [
    {
     "name": "stdout",
     "output_type": "stream",
     "text": [
      "1 cube is 1\n",
      "2 cube is 8\n",
      "3 cube is 27\n",
      "4 cube is 64\n",
      "5 cube is 125\n",
      "6 cube is 216\n"
     ]
    }
   ],
   "source": [
    "cubes = [1,2,3,4,5,6]\n",
    "\n",
    "\n",
    "for cube in cubes:\n",
    "    cubed = cube * cube * cube\n",
    "    print(cube, 'cube is', cubed)"
   ]
  },
  {
   "cell_type": "code",
   "execution_count": null,
   "id": "1dcc6063",
   "metadata": {},
   "outputs": [],
   "source": []
  }
 ],
 "metadata": {
  "kernelspec": {
   "display_name": "Python 3 (ipykernel)",
   "language": "python",
   "name": "python3"
  },
  "language_info": {
   "codemirror_mode": {
    "name": "ipython",
    "version": 3
   },
   "file_extension": ".py",
   "mimetype": "text/x-python",
   "name": "python",
   "nbconvert_exporter": "python",
   "pygments_lexer": "ipython3",
   "version": "3.9.13"
  }
 },
 "nbformat": 4,
 "nbformat_minor": 5
}
