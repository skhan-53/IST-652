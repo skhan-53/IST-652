{
 "cells": [
  {
   "cell_type": "code",
   "execution_count": null,
   "id": "9c13efe7",
   "metadata": {},
   "outputs": [],
   "source": [
    "Write a Python program to find a list of integers with exactly two occurrences of nineteen and at\n",
    "least three occurrences of five. Use at least 2 lists to test your logic.\n",
    "[19, 19, 15, 5, 3, 5, 5, 2]\n",
    "[19, 15, 15, 5, 3, 3, 5, 2]\n",
    "Output should be True or False with a count of occurrences of each number.\n",
    "\n",
    "\n",
    "\n",
    "\n",
    "Write a Python program to find the longest string of a given list of strings. Print the original list\n",
    "and the result you received. Use both lists below (run each list through your code, print the\n",
    "result, then move on to the next list).\n",
    "Input: ['cat', 'car', 'fear', 'center']\n",
    "Input: ['cat', 'dog', 'shatter', 'donut', 'at', 'todo', '']\n",
    "Submit your work as a jupyter notebook that shows your code and your results"
   ]
  },
  {
   "cell_type": "code",
   "execution_count": 55,
   "id": "958bd0ce",
   "metadata": {
    "scrolled": true
   },
   "outputs": [
    {
     "name": "stdout",
     "output_type": "stream",
     "text": [
      "Occurrences of 19: 2\n",
      "Occurrences of 5: 3\n"
     ]
    },
    {
     "data": {
      "text/plain": [
       "True"
      ]
     },
     "execution_count": 55,
     "metadata": {},
     "output_type": "execute_result"
    }
   ],
   "source": [
    "def count(x):\n",
    "    return x.count(19) == 2 and x.count(5) >=3\n",
    "print(f\"Occurrences of 19: {x.count(19)}\")\n",
    "print(f\"Occurrences of 5: {x.count(5)}\")         \n",
    "x = [19, 19, 15, 5, 3, 5, 5, 2]\n",
    "count(x)\n",
    "    \n",
    "    \n"
   ]
  },
  {
   "cell_type": "code",
   "execution_count": 57,
   "id": "75fbf67e",
   "metadata": {},
   "outputs": [
    {
     "name": "stdout",
     "output_type": "stream",
     "text": [
      "Occurrences of 19: 1\n",
      "Occurrences of 5: 2\n"
     ]
    },
    {
     "data": {
      "text/plain": [
       "False"
      ]
     },
     "execution_count": 57,
     "metadata": {},
     "output_type": "execute_result"
    }
   ],
   "source": [
    "y =   [19, 15, 15, 5, 3, 3, 5, 2]\n",
    "\n",
    "print(f\"Occurrences of 19: {y.count(19)}\")\n",
    "print(f\"Occurrences of 5: {y.count(5)}\")    \n",
    "count(y)\n",
    "\n",
    "\n"
   ]
  },
  {
   "cell_type": "code",
   "execution_count": null,
   "id": "a9d97d7a",
   "metadata": {},
   "outputs": [],
   "source": [
    "Input: ['cat', 'car', 'fear', 'center']\n",
    "Input: ['cat', 'dog', 'shatter', 'donut', 'at', 'todo', '']"
   ]
  },
  {
   "cell_type": "code",
   "execution_count": 51,
   "id": "006b36cd",
   "metadata": {},
   "outputs": [
    {
     "name": "stdout",
     "output_type": "stream",
     "text": [
      "Original list 1: ['cat', 'car', 'fear', 'center']\n",
      "Longest string in list 1: center\n",
      "\n",
      "Original list 2: ['cat', 'dog', 'shatter', 'donut', 'at', 'todo', '']\n",
      "Longest string in list 2: shatter\n"
     ]
    }
   ],
   "source": [
    "\n",
    "def leng(input_list):    \n",
    "    max_length = 0\n",
    "    longest_str = ''\n",
    "    \n",
    "    for string in input_list:\n",
    "        if len(string) > max_length:\n",
    "            max_length = len(string)\n",
    "            longest_str = string\n",
    "    \n",
    "    return longest_str\n",
    "\n",
    "list1 = ['cat', 'car', 'fear', 'center']\n",
    "list2 = ['cat', 'dog', 'shatter', 'donut', 'at', 'todo', '']\n",
    "\n",
    "result1 = leng(list1)\n",
    "result2 = leng(list2)\n",
    "\n",
    "print(f\"Original list 1: {list1}\")\n",
    "print(f\"Longest string in list 1: {result1}\")\n",
    "\n",
    "print(f\"\\nOriginal list 2: {list2}\")\n",
    "print(f\"Longest string in list 2: {result2}\")\n"
   ]
  },
  {
   "cell_type": "code",
   "execution_count": null,
   "id": "be68e250",
   "metadata": {},
   "outputs": [],
   "source": []
  }
 ],
 "metadata": {
  "kernelspec": {
   "display_name": "Python 3 (ipykernel)",
   "language": "python",
   "name": "python3"
  },
  "language_info": {
   "codemirror_mode": {
    "name": "ipython",
    "version": 3
   },
   "file_extension": ".py",
   "mimetype": "text/x-python",
   "name": "python",
   "nbconvert_exporter": "python",
   "pygments_lexer": "ipython3",
   "version": "3.9.13"
  }
 },
 "nbformat": 4,
 "nbformat_minor": 5
}
